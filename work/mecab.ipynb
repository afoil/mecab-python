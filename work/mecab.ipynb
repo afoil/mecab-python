{
 "cells": [
  {
   "cell_type": "code",
   "execution_count": 1,
   "id": "ef43dd0c-aafc-4cd4-831f-4d45f84b855d",
   "metadata": {},
   "outputs": [],
   "source": [
    "import MeCab"
   ]
  },
  {
   "cell_type": "code",
   "execution_count": 2,
   "id": "81e547f4-8b75-4c49-a979-2121d9c108aa",
   "metadata": {},
   "outputs": [],
   "source": [
    "import boto3"
   ]
  },
  {
   "cell_type": "code",
   "execution_count": 22,
   "id": "d88b9975-b653-4bd0-bca1-5e476e49839b",
   "metadata": {},
   "outputs": [],
   "source": [
    "!touch /usr/local/etc/mecabrc"
   ]
  },
  {
   "cell_type": "code",
   "execution_count": 24,
   "id": "9dabc3f4-543f-4d49-96a3-a2c1c0de71e6",
   "metadata": {},
   "outputs": [],
   "source": [
    "!cat /usr/local/etc/mecabrc"
   ]
  },
  {
   "cell_type": "code",
   "execution_count": 18,
   "id": "a6eefc6d-59a6-4b3a-8264-68980ab2aa0e",
   "metadata": {},
   "outputs": [
    {
     "ename": "SyntaxError",
     "evalue": "invalid syntax (1223345620.py, line 1)",
     "output_type": "error",
     "traceback": [
      "\u001b[0;36m  Cell \u001b[0;32mIn[18], line 1\u001b[0;36m\u001b[0m\n\u001b[0;31m    dicdir = /usr/lib/x86_64-linux-gnu/mecab/dic/mecab-ipadic-neologd\u001b[0m\n\u001b[0m             ^\u001b[0m\n\u001b[0;31mSyntaxError\u001b[0m\u001b[0;31m:\u001b[0m invalid syntax\n"
     ]
    }
   ],
   "source": [
    "dicdir = /usr/lib/x86_64-linux-gnu/mecab/dic/mecab-ipadic-neologd"
   ]
  },
  {
   "cell_type": "code",
   "execution_count": 3,
   "id": "7a1c25f5-4483-4e23-83e1-b478687b1680",
   "metadata": {},
   "outputs": [
    {
     "ename": "RuntimeError",
     "evalue": "\n----------------------------------------------------------\n\nFailed initializing MeCab. Please see the README for possible solutions:\n\n    https://github.com/SamuraiT/mecab-python3#common-issues\n\nIf you are still having trouble, please file an issue here, and include the\nERROR DETAILS below:\n\n    https://github.com/SamuraiT/mecab-python3/issues\n\nissueを英語で書く必要はありません。\n\n------------------- ERROR DETAILS ------------------------\narguments: -d /usr/lib/x86_64-linux-gnu/mecab/dic/mecab-ipadic-neologd\n[ifs] no such file or directory: /usr/local/etc/mecabrc\n----------------------------------------------------------\n",
     "output_type": "error",
     "traceback": [
      "\u001b[0;31m---------------------------------------------------------------------------\u001b[0m",
      "\u001b[0;31mRuntimeError\u001b[0m                              Traceback (most recent call last)",
      "File \u001b[0;32m/usr/local/lib/python3.9/site-packages/MeCab/__init__.py:133\u001b[0m, in \u001b[0;36mTagger.__init__\u001b[0;34m(self, rawargs)\u001b[0m\n\u001b[1;32m    132\u001b[0m \u001b[38;5;28;01mtry\u001b[39;00m:\n\u001b[0;32m--> 133\u001b[0m     \u001b[38;5;28;43msuper\u001b[39;49m\u001b[43m(\u001b[49m\u001b[43mTagger\u001b[49m\u001b[43m,\u001b[49m\u001b[43m \u001b[49m\u001b[38;5;28;43mself\u001b[39;49m\u001b[43m)\u001b[49m\u001b[38;5;241;43m.\u001b[39;49m\u001b[38;5;21;43m__init__\u001b[39;49m\u001b[43m(\u001b[49m\u001b[43margs\u001b[49m\u001b[43m)\u001b[49m\n\u001b[1;32m    134\u001b[0m \u001b[38;5;28;01mexcept\u001b[39;00m \u001b[38;5;167;01mRuntimeError\u001b[39;00m \u001b[38;5;28;01mas\u001b[39;00m ee:\n",
      "\u001b[0;31mRuntimeError\u001b[0m: ",
      "\nThe above exception was the direct cause of the following exception:\n",
      "\u001b[0;31mRuntimeError\u001b[0m                              Traceback (most recent call last)",
      "Cell \u001b[0;32mIn[3], line 2\u001b[0m\n\u001b[1;32m      1\u001b[0m \u001b[38;5;66;03m# echo `mecab-config --dicdir`\"/mecab-ipadic-neologd\"を -d で指定する\u001b[39;00m\n\u001b[0;32m----> 2\u001b[0m tagger \u001b[38;5;241m=\u001b[39m \u001b[43mMeCab\u001b[49m\u001b[38;5;241;43m.\u001b[39;49m\u001b[43mTagger\u001b[49m\u001b[43m(\u001b[49m\u001b[38;5;124;43m\"\u001b[39;49m\u001b[38;5;124;43m-d /usr/lib/x86_64-linux-gnu/mecab/dic/mecab-ipadic-neologd\u001b[39;49m\u001b[38;5;124;43m\"\u001b[39;49m\u001b[43m)\u001b[49m\n",
      "File \u001b[0;32m/usr/local/lib/python3.9/site-packages/MeCab/__init__.py:135\u001b[0m, in \u001b[0;36mTagger.__init__\u001b[0;34m(self, rawargs)\u001b[0m\n\u001b[1;32m    133\u001b[0m     \u001b[38;5;28msuper\u001b[39m(Tagger, \u001b[38;5;28mself\u001b[39m)\u001b[38;5;241m.\u001b[39m\u001b[38;5;21m__init__\u001b[39m(args)\n\u001b[1;32m    134\u001b[0m \u001b[38;5;28;01mexcept\u001b[39;00m \u001b[38;5;167;01mRuntimeError\u001b[39;00m \u001b[38;5;28;01mas\u001b[39;00m ee:\n\u001b[0;32m--> 135\u001b[0m     \u001b[38;5;28;01mraise\u001b[39;00m \u001b[38;5;167;01mRuntimeError\u001b[39;00m(error_info(rawargs)) \u001b[38;5;28;01mfrom\u001b[39;00m \u001b[38;5;21;01mee\u001b[39;00m\n",
      "\u001b[0;31mRuntimeError\u001b[0m: \n----------------------------------------------------------\n\nFailed initializing MeCab. Please see the README for possible solutions:\n\n    https://github.com/SamuraiT/mecab-python3#common-issues\n\nIf you are still having trouble, please file an issue here, and include the\nERROR DETAILS below:\n\n    https://github.com/SamuraiT/mecab-python3/issues\n\nissueを英語で書く必要はありません。\n\n------------------- ERROR DETAILS ------------------------\narguments: -d /usr/lib/x86_64-linux-gnu/mecab/dic/mecab-ipadic-neologd\n[ifs] no such file or directory: /usr/local/etc/mecabrc\n----------------------------------------------------------\n"
     ]
    }
   ],
   "source": [
    "# echo `mecab-config --dicdir`\"/mecab-ipadic-neologd\"を -d で指定する\n",
    "tagger = MeCab.Tagger(\"-d /usr/lib/x86_64-linux-gnu/mecab/dic/mecab-ipadic-neologd\")"
   ]
  },
  {
   "cell_type": "code",
   "execution_count": 10,
   "id": "e5e2baf6-fbda-4cee-a438-aec2672bfd55",
   "metadata": {},
   "outputs": [
    {
     "name": "stdout",
     "output_type": "stream",
     "text": [
      "char.bin  left-id.def  pos-id.def   right-id.def  unk.dic\n",
      "dicrc     matrix.bin   rewrite.def  sys.dic\n"
     ]
    }
   ],
   "source": [
    "ls /usr/lib/x86_64-linux-gnu/mecab/dic/mecab-ipadic-neologd"
   ]
  },
  {
   "cell_type": "code",
   "execution_count": 28,
   "id": "36681877-b215-4d75-ae13-088a28365014",
   "metadata": {},
   "outputs": [
    {
     "data": {
      "text/plain": [
       "[['5000兆円', '名詞,固有名詞,一般,*,*,*,5000兆円,ゴセンチョウエン,ゴセンチョーエン'],\n",
       " ['欲しい', '形容詞,自立,*,*,形容詞・イ段,基本形,欲しい,ホシイ,ホシイ']]"
      ]
     },
     "execution_count": 28,
     "metadata": {},
     "output_type": "execute_result"
    }
   ],
   "source": [
    "[item.split(\"\\t\") for item in tagger.parse(\"5000兆円欲しい\").splitlines()[:-1]]"
   ]
  },
  {
   "cell_type": "code",
   "execution_count": 23,
   "id": "f9d00119-f26c-4e81-87f2-ad1893b88505",
   "metadata": {},
   "outputs": [
    {
     "data": {
      "text/plain": [
       "['5000兆円\\t名詞,固有名詞,一般,*,*,*,5000兆円,ゴセンチョウエン,ゴセンチョーエン',\n",
       " '欲しい\\t形容詞,自立,*,*,形容詞・イ段,基本形,欲しい,ホシイ,ホシイ']"
      ]
     },
     "execution_count": 23,
     "metadata": {},
     "output_type": "execute_result"
    }
   ],
   "source": [
    "tagger.parse(\"5000兆円欲しい\").splitlines()[:-1]\n",
    "print(\"hellp\")"
   ]
  },
  {
   "cell_type": "code",
   "execution_count": 47,
   "id": "953a4bea-1e75-4805-82d8-2aa76637346a",
   "metadata": {},
   "outputs": [],
   "source": [
    "def get_target_words(resp):\n",
    "    items = [item.split(\"\\t\") for item in resp.splitlines()[:-1]]\n",
    "    target_words = [item[0] for item in items if item[1].split(',')[0] in [\"名詞\", \"形容詞\"]]\n",
    "    return target_words"
   ]
  },
  {
   "cell_type": "code",
   "execution_count": 48,
   "id": "d5091474-ed0c-4684-8117-080662a2b74f",
   "metadata": {},
   "outputs": [
    {
     "data": {
      "text/plain": [
       "['今日', '静か']"
      ]
     },
     "execution_count": 48,
     "metadata": {},
     "output_type": "execute_result"
    }
   ],
   "source": [
    "get_target_words(tagger.parse(\"今日は静かだ\"))"
   ]
  },
  {
   "cell_type": "code",
   "execution_count": 46,
   "id": "d267cd85-a5d7-4fc4-9dcb-c831ac78a7f9",
   "metadata": {},
   "outputs": [
    {
     "name": "stdout",
     "output_type": "stream",
     "text": [
      "今日\t名詞,副詞可能,*,*,*,*,今日,キョウ,キョー\n",
      "は\t助詞,係助詞,*,*,*,*,は,ハ,ワ\n",
      "静か\t名詞,形容動詞語幹,*,*,*,*,静か,シズカ,シズカ\n",
      "だ\t助動詞,*,*,*,特殊・ダ,基本形,だ,ダ,ダ\n",
      "EOS\n",
      "\n"
     ]
    }
   ],
   "source": [
    "print(tagger.parse(\"今日は静かだ\"))"
   ]
  },
  {
   "cell_type": "code",
   "execution_count": 16,
   "id": "02496e82-5a84-43d5-94ba-5179792fdf19",
   "metadata": {},
   "outputs": [
    {
     "name": "stdout",
     "output_type": "stream",
     "text": [
      "8月3日\t名詞,固有名詞,一般,*,*,*,8月3日,ハチガツミッカ,ハチガツミッカ\n",
      "に\t助詞,格助詞,一般,*,*,*,に,ニ,ニ\n",
      "放送\t名詞,サ変接続,*,*,*,*,放送,ホウソウ,ホーソー\n",
      "さ\t動詞,自立,*,*,サ変・スル,未然レル接続,する,サ,サ\n",
      "れ\t動詞,接尾,*,*,一段,連用形,れる,レ,レ\n",
      "た\t助動詞,*,*,*,特殊・タ,基本形,た,タ,タ\n",
      "「\t記号,括弧開,*,*,*,*,「,「,「\n",
      "中居正広の金曜日のスマイルたちへ\t名詞,固有名詞,一般,*,*,*,中居正広の金曜日のスマイルたちへ,ナカイマサヒロノキンヨウビノスマイルタチヘ,ナカイマサヒロノキンヨービノスマイルタチヘ\n",
      "」\t記号,括弧閉,*,*,*,*,」,」,」\n",
      "EOS\n"
     ]
    }
   ],
   "source": [
    "!echo \"8月3日に放送された「中居正広の金曜日のスマイルたちへ」\" | mecab -d /usr/lib/x86_64-linux-gnu/mecab/dic/mecab-ipadic-neologd"
   ]
  },
  {
   "cell_type": "code",
   "execution_count": null,
   "id": "f150983e-4bec-4efc-8124-bbe6ec0c5614",
   "metadata": {},
   "outputs": [],
   "source": []
  }
 ],
 "metadata": {
  "kernelspec": {
   "display_name": "Python 3 (ipykernel)",
   "language": "python",
   "name": "python3"
  },
  "language_info": {
   "codemirror_mode": {
    "name": "ipython",
    "version": 3
   },
   "file_extension": ".py",
   "mimetype": "text/x-python",
   "name": "python",
   "nbconvert_exporter": "python",
   "pygments_lexer": "ipython3",
   "version": "3.9.16"
  }
 },
 "nbformat": 4,
 "nbformat_minor": 5
}
